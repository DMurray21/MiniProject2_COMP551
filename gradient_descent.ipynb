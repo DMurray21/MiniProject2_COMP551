{
  "nbformat": 4,
  "nbformat_minor": 0,
  "metadata": {
    "colab": {
      "name": "gradient_descent.ipynb",
      "provenance": [],
      "collapsed_sections": [],
      "authorship_tag": "ABX9TyPP99fzW+7VJL++d3RFdFMf",
      "include_colab_link": true
    },
    "kernelspec": {
      "name": "python3",
      "display_name": "Python 3"
    }
  },
  "cells": [
    {
      "cell_type": "markdown",
      "metadata": {
        "id": "view-in-github",
        "colab_type": "text"
      },
      "source": [
        "<a href=\"https://colab.research.google.com/github/DMurray21/MiniProject2_COMP551/blob/gradient_descent/gradient_descent.ipynb\" target=\"_parent\"><img src=\"https://colab.research.google.com/assets/colab-badge.svg\" alt=\"Open In Colab\"/></a>"
      ]
    },
    {
      "cell_type": "code",
      "metadata": {
        "id": "DgQAntuUOJPq"
      },
      "source": [
        "from sklearn.datasets import load_digits \n",
        "import matplotlib.pyplot as plt \n",
        "import numpy\n",
        "import pandas"
      ],
      "execution_count": 9,
      "outputs": []
    },
    {
      "cell_type": "code",
      "metadata": {
        "id": "azsMTuMMPAWD",
        "outputId": "fbe3df2a-a538-4394-dac8-78d58b6edb2b",
        "colab": {
          "base_uri": "https://localhost:8080/",
          "height": 309
        }
      },
      "source": [
        "dataset = load_digits()\n",
        "#print(type(dataset))\n",
        "print(dataset.data.shape)\n",
        "plt.gray()\n",
        "plt.matshow(dataset.images[2])\n",
        "plt.show() "
      ],
      "execution_count": 30,
      "outputs": [
        {
          "output_type": "stream",
          "text": [
            "(1797, 64)\n"
          ],
          "name": "stdout"
        },
        {
          "output_type": "display_data",
          "data": {
            "text/plain": [
              "<Figure size 432x288 with 0 Axes>"
            ]
          },
          "metadata": {
            "tags": []
          }
        },
        {
          "output_type": "display_data",
          "data": {
            "image/png": "[encoded data removed]",
            "text/plain": [
              "<Figure size 288x288 with 1 Axes>"
            ]
          },
          "metadata": {
            "tags": [],
            "needs_background": "light"
          }
        }
      ]
    },
    {
      "cell_type": "code",
      "metadata": {
        "id": "4YUi2IV1Skcr"
      },
      "source": [
        "class GradientDescent:\n",
        "    \n",
        "    def __init__(self, batch_size,  max_iters=1e4, epsilon=1e-8, record_history=False):\n",
        "        self.max_iters = max_iters\n",
        "        self.batch_size = batch_size\n",
        "        self.record_history = record_history\n",
        "        self.epsilon = epsilon\n",
        "        if record_history:\n",
        "            self.w_history = []                 #to store the weight history for visualization\n",
        "\n",
        "    \n",
        "    def get_batches(self, dataset, batch_size=1):\n",
        "      number_of_batches = dataset.shape[0]//batch_size\n",
        "      batches = numpy.empty\n",
        "      for i in range(number_of_batches):\n",
        "        first_index = i-1 * batch_size\n",
        "        last_index = i * batch_size\n",
        "        batches.append(data[first_index:last_index])\n",
        "      return batches\n",
        "\n",
        "    def run(self, gradient_fn, x, y, w, momentum=0.9, batch_size=1):\n",
        "        grad = np.inf\n",
        "        t = 1\n",
        "        data_batches = self.get_batches(x,batch_size)\n",
        "        label_batches = self.get_batches(y,batch_size)\n",
        "        while np.linalg.norm(grad) > self.epsilon and t < self.max_iters:\n",
        "          for i in range(len(data_batches)):\n",
        "            grad = gradient_fn(data_batches[i], label_batches[i], w)               # compute the gradient with present weight\n",
        "            w = momentum*w - t**-0.51 * grad         # weight update step\n",
        "            if self.record_history:\n",
        "                self.w_history.append(w)\n",
        "            t += 1\n",
        "        return w"
      ],
      "execution_count": null,
      "outputs": []
    }
  ]
}